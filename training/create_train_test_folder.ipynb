{
  "nbformat": 4,
  "nbformat_minor": 2,
  "metadata": {
    "colab": {
      "name": "create_train_test_folder.ipynb",
      "provenance": [],
      "collapsed_sections": []
    },
    "kernelspec": {
      "name": "python3",
      "display_name": "Python 3"
    },
    "language_info": {
      "name": "python"
    }
  },
  "cells": [
    {
      "cell_type": "markdown",
      "source": [
        "## First create folder with name 'new_dataset' and then run following code\r\n",
        "\r\n",
        "15 directory of classes\r\n",
        "\r\n",
        "['Pepper__bell___Bacterial_spot''Pepper__bell___healthy', 'Potato___Early_blight',\r\n",
        "'Potato___Late_blight', 'Potato___healthy', 'Tomato_Bacterial_spot', 'Tomato_Early_blight',\r\n",
        "'Tomato_Late_blight', 'Tomato_Leaf_Mold', 'Tomato_Septoria_leaf_spot', 'Tomato__Target_Spot',\r\n",
        "'Tomato_Spider_mites_Two_spotted_spider_mite', 'Tomato__Tomato_YellowLeaf__Curl_Virus', \r\n",
        "'Tomato__Tomato_mosaic_virus', 'Tomato_healthy']\r\n",
        "\r\n",
        "```\r\n",
        "new_dataset\r\n",
        "│\r\n",
        "└───train\r\n",
        "│   │   15 directory of classes\r\n",
        "└───train\r\n",
        "    │   15 directory of classes\r\n",
        "```"
      ],
      "metadata": {
        "id": "v0dBC0mIeptT"
      }
    },
    {
      "cell_type": "code",
      "execution_count": 218,
      "source": [
        "import pathlib\r\n",
        "from glob import glob\r\n",
        "import fnmatch\r\n",
        "import os\r\n",
        "import pandas as pd\r\n",
        "import shutil\r\n",
        "\r\n",
        "PATH = '/content/drive/MyDrive/Colab Notebooks/Kaggle_Project/Plant Disease'\r\n",
        "\r\n",
        "# original directory which all images\r\n",
        "MAIN_DATASET_PATH = f'{PATH}/dataset/PlantVillage/'\r\n",
        "\r\n",
        "# new directory which will conain train and test dataset\r\n",
        "NEW_DATASET_PATH = f'{PATH}/sample/'\r\n",
        "\r\n",
        "# train and test directory\r\n",
        "TRAIN_DATASET_PATH = f'{NEW_DATASET_PATH}train/'\r\n",
        "TEST_DATASET_PATH = f'{NEW_DATASET_PATH}test/'\r\n",
        "\r\n",
        "\r\n",
        "CLASSES = ['Pepper__bell___Bacterial_spot', 'Pepper__bell___healthy', 'Potato___Early_blight',\r\n",
        "'Potato___Late_blight', 'Potato___healthy', 'Tomato_Bacterial_spot', 'Tomato_Early_blight',\r\n",
        "'Tomato_Late_blight', 'Tomato_Leaf_Mold', 'Tomato_Septoria_leaf_spot', 'Tomato__Target_Spot',\r\n",
        "'Tomato_Spider_mites_Two_spotted_spider_mite', 'Tomato__Tomato_YellowLeaf__Curl_Virus', \r\n",
        "'Tomato__Tomato_mosaic_virus', 'Tomato_healthy']\r\n",
        "\r\n",
        "TRAIN_TEST = ['test', 'train']\r\n",
        "\r\n",
        "class CreateDataset:\r\n",
        "    '''\r\n",
        "    1. Create folder structure for train and test\r\n",
        "    2. Create dataframe of path from main dataset\r\n",
        "    3. Copy 600 images from each class to train folder\r\n",
        "\r\n",
        "    4. Create dataframe of path from newly copied train images\r\n",
        "    5. Move 100 images from each class to test folder\r\n",
        "    '''\r\n",
        "\r\n",
        "    def __init__(self):\r\n",
        "        self.create_folder_struct(TRAIN_TEST, NEW_DATASET_PATH, CLASSES)\r\n",
        "\r\n",
        "    # create folder structure for train and test\r\n",
        "    def create_folder_struct(self, train_test, path, classes):\r\n",
        "        for tt in train_test:\r\n",
        "            destination = f'{path}{tt}'\r\n",
        "            if not os.path.exists(destination):\r\n",
        "                os.mkdir(destination)\r\n",
        "            for clas in classes:\r\n",
        "                destination = f'{path}/{tt}/{clas}'\r\n",
        "                if not os.path.exists(destination):\r\n",
        "                    os.mkdir(destination)\r\n",
        "\r\n",
        "    # create dataframe containg path and class name (label)\r\n",
        "    def create_path_df(self, temp_path):\r\n",
        "        path_list_1 = [x for x in glob(temp_path)]\r\n",
        "        lesion_list_new_1 = [os.path.basename(os.path.dirname(y)) for y in glob(temp_path)]\r\n",
        "\r\n",
        "        dataframe_dict_new_1 = dict(zip(path_list_1, lesion_list_new_1))\r\n",
        "        original_df = pd.DataFrame(list(dataframe_dict_new_1.items()),columns = ['Path','Label'])\r\n",
        "        return original_df\r\n",
        "\r\n",
        "    # path\r\n",
        "    def temp_path_fun(self, path):\r\n",
        "        data_dir_train = pathlib.Path(path)\r\n",
        "        temp_path = os.path.join(data_dir_train, '*', '*.JPG')\r\n",
        "        return temp_path\r\n",
        "\r\n",
        "    #  copy and move images to train/test folder\r\n",
        "    def copy_move_images(self, original_df, destination_path, classes, img_count=580, move=False, copy=False):\r\n",
        "        for cls in classes:\r\n",
        "            destination = destination_path + cls\r\n",
        "            no = img_count\r\n",
        "            df_cls = original_df[original_df.Label == cls]\r\n",
        "\r\n",
        "            if len(df_cls) < no:\r\n",
        "                no = len(df_cls)\r\n",
        "\r\n",
        "            df_cls = df_cls.sample(n = no)\r\n",
        "\r\n",
        "            for i in range(len(df_cls)):\r\n",
        "                source = df_cls.Path.iloc[i]\r\n",
        "                #   copy images\r\n",
        "                if copy:\r\n",
        "                    shutil.copy(source, destination)\r\n",
        "                #   move images\r\n",
        "                if move:\r\n",
        "                    shutil.move(source, destination)\r\n",
        "            print(f\"Operation done for {cls}: {len(df_cls)}\")\r\n",
        "\r\n",
        "    def create_train_dataset(self, classes, img_count):\r\n",
        "        # 1. Create dataframe of path from main dataset\r\n",
        "        path = MAIN_DATASET_PATH\r\n",
        "        main_path = self.temp_path_fun(path)\r\n",
        "        main_df = self.create_path_df(main_path)\r\n",
        "\r\n",
        "        # 2. Copy 600 images from each class to train folder\r\n",
        "        destination_path = TRAIN_DATASET_PATH\r\n",
        "        self.copy_move_images(main_df, destination_path, classes, img_count=img_count, move=False, copy=True)\r\n",
        "\r\n",
        "    def create_test_dataset(self, classes, img_count):\r\n",
        "        # 3. Create dataframe of path from newly copied train images\r\n",
        "        path = TRAIN_DATASET_PATH\r\n",
        "        main_path = self.temp_path_fun(path)\r\n",
        "        train_df = self.create_path_df(main_path)\r\n",
        "\r\n",
        "        # 4. Move 100 images from each class to test folder\r\n",
        "        destination_path = TEST_DATASET_PATH\r\n",
        "        self.copy_move_images(train_df, destination_path, classes, img_count=img_count, move=True, copy=False)\r\n"
      ],
      "outputs": [],
      "metadata": {
        "id": "zcNZhpNJXsJO"
      }
    },
    {
      "cell_type": "code",
      "execution_count": 219,
      "source": [
        "# create class object\n",
        "data_object = CreateDataset()"
      ],
      "outputs": [],
      "metadata": {
        "id": "PLC15JtCckVs"
      }
    },
    {
      "cell_type": "code",
      "execution_count": 209,
      "source": [
        "# create train dataset\n",
        "data_object.create_train_dataset(CLASSES, img_count=600)"
      ],
      "outputs": [
        {
          "output_type": "stream",
          "name": "stdout",
          "text": [
            "Operation done for Pepper__bell___Bacterial_spot: 10\n",
            "Operation done for Pepper__bell___healthy: 10\n",
            "Operation done for Potato___Early_blight: 10\n",
            "Operation done for Potato___Late_blight: 10\n",
            "Operation done for Potato___healthy: 10\n",
            "Operation done for Tomato_Bacterial_spot: 10\n",
            "Operation done for Tomato_Early_blight: 10\n",
            "Operation done for Tomato_Late_blight: 10\n",
            "Operation done for Tomato_Leaf_Mold: 10\n",
            "Operation done for Tomato_Septoria_leaf_spot: 10\n",
            "Operation done for Tomato__Target_Spot: 10\n",
            "Operation done for Tomato_Spider_mites_Two_spotted_spider_mite: 10\n",
            "Operation done for Tomato__Tomato_YellowLeaf__Curl_Virus: 10\n",
            "Operation done for Tomato__Tomato_mosaic_virus: 10\n",
            "Operation done for Tomato_healthy: 10\n"
          ]
        }
      ],
      "metadata": {
        "colab": {
          "base_uri": "https://localhost:8080/"
        },
        "id": "OFtBg-YPXvNu",
        "outputId": "16675aaf-b185-4cac-b6c0-a64bde1a9961"
      }
    },
    {
      "cell_type": "code",
      "execution_count": 210,
      "source": [
        "# create test dataset\n",
        "CLASSES = ['Pepper__bell___Bacterial_spot', 'Pepper__bell___healthy', 'Potato___Early_blight',\n",
        "'Potato___Late_blight', 'Tomato_Bacterial_spot', 'Tomato_Early_blight',\n",
        "'Tomato_Late_blight', 'Tomato_Leaf_Mold', 'Tomato_Septoria_leaf_spot', 'Tomato__Target_Spot',\n",
        "'Tomato_Spider_mites_Two_spotted_spider_mite', 'Tomato__Tomato_YellowLeaf__Curl_Virus',  'Tomato_healthy']\n",
        "\n",
        "data_object.create_test_dataset(CLASSES, img_count=100)"
      ],
      "outputs": [
        {
          "output_type": "stream",
          "name": "stdout",
          "text": [
            "Operation done for Pepper__bell___Bacterial_spot: 4\n",
            "Operation done for Pepper__bell___healthy: 4\n",
            "Operation done for Potato___Early_blight: 4\n",
            "Operation done for Potato___Late_blight: 4\n",
            "Operation done for Tomato_Bacterial_spot: 4\n",
            "Operation done for Tomato_Early_blight: 4\n",
            "Operation done for Tomato_Late_blight: 4\n",
            "Operation done for Tomato_Leaf_Mold: 4\n",
            "Operation done for Tomato_Septoria_leaf_spot: 4\n",
            "Operation done for Tomato__Target_Spot: 4\n",
            "Operation done for Tomato_Spider_mites_Two_spotted_spider_mite: 4\n",
            "Operation done for Tomato__Tomato_YellowLeaf__Curl_Virus: 4\n",
            "Operation done for Tomato_healthy: 4\n"
          ]
        }
      ],
      "metadata": {
        "colab": {
          "base_uri": "https://localhost:8080/"
        },
        "id": "hr6TpDtRZGR9",
        "outputId": "8e1ead26-3436-48f7-8a58-67f1913c96fb"
      }
    },
    {
      "cell_type": "code",
      "execution_count": 211,
      "source": [
        "CLASSES = ['Potato___healthy', 'Tomato__Tomato_mosaic_virus']\n",
        "data_object.create_test_dataset(CLASSES, img_count=20)"
      ],
      "outputs": [
        {
          "output_type": "stream",
          "name": "stdout",
          "text": [
            "Operation done for Potato___healthy: 4\n",
            "Operation done for Tomato__Tomato_mosaic_virus: 4\n"
          ]
        }
      ],
      "metadata": {
        "colab": {
          "base_uri": "https://localhost:8080/"
        },
        "id": "MkMpuA1gZesP",
        "outputId": "32fe8919-6db8-47af-c0bb-f34ecefb3555"
      }
    },
    {
      "cell_type": "code",
      "execution_count": null,
      "source": [],
      "outputs": [],
      "metadata": {
        "id": "1gyP382PZmaP"
      }
    },
    {
      "cell_type": "code",
      "execution_count": null,
      "source": [],
      "outputs": [],
      "metadata": {
        "id": "ib6eCUzxaQb4"
      }
    }
  ]
}